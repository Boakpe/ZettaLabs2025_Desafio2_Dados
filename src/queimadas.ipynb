{
 "cells": [
  {
   "cell_type": "code",
   "execution_count": 1,
   "id": "9b616d9d",
   "metadata": {},
   "outputs": [],
   "source": [
    "import pandas as pd"
   ]
  },
  {
   "cell_type": "code",
   "execution_count": 2,
   "id": "e6eb7860",
   "metadata": {},
   "outputs": [],
   "source": [
    "arquivos = []\n",
    "\n",
    "for i in range(2008, 2025):\n",
    "    arquivos.append(pd.read_csv(f'../data/QUEIMADAS/focos_br_pa_ref_{i}.csv',encoding='utf-8'))"
   ]
  },
  {
   "cell_type": "code",
   "execution_count": 3,
   "id": "d18e0fe4",
   "metadata": {},
   "outputs": [],
   "source": [
    "# Concatena os arquivos\n",
    "df = pd.concat(arquivos, ignore_index=True)"
   ]
  },
  {
   "cell_type": "code",
   "execution_count": 4,
   "id": "0708ea79",
   "metadata": {},
   "outputs": [],
   "source": [
    "df['data_pas'] = pd.to_datetime(df['data_pas'])\n",
    "df['Ano'] = df['data_pas'].dt.year"
   ]
  },
  {
   "cell_type": "code",
   "execution_count": 5,
   "id": "b442de95",
   "metadata": {},
   "outputs": [],
   "source": [
    "new_df = df[['municipio', 'Ano']].sort_values(by=['municipio', 'Ano']).copy()"
   ]
  },
  {
   "cell_type": "code",
   "execution_count": 6,
   "id": "bfd9ca2a",
   "metadata": {},
   "outputs": [],
   "source": [
    "new_df = new_df.groupby(['municipio', 'Ano']).size().reset_index(name='focos')\n",
    "new_df.to_csv('../data/QUEIMADAS/focos_br_pa_ref_2008_2024.csv', index=False, encoding='utf-8')"
   ]
  }
 ],
 "metadata": {
  "kernelspec": {
   "display_name": ".venv",
   "language": "python",
   "name": "python3"
  },
  "language_info": {
   "codemirror_mode": {
    "name": "ipython",
    "version": 3
   },
   "file_extension": ".py",
   "mimetype": "text/x-python",
   "name": "python",
   "nbconvert_exporter": "python",
   "pygments_lexer": "ipython3",
   "version": "3.12.9"
  }
 },
 "nbformat": 4,
 "nbformat_minor": 5
}
