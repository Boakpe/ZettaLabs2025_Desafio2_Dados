{
 "cells": [
  {
   "cell_type": "code",
   "execution_count": 1,
   "id": "518a91e4",
   "metadata": {},
   "outputs": [],
   "source": [
    "import pandas as pd"
   ]
  },
  {
   "cell_type": "markdown",
   "id": "23fed28e",
   "metadata": {},
   "source": [
    "### Link para download do dados:\n",
    "https://sidra.ibge.gov.br/tabela/839"
   ]
  },
  {
   "cell_type": "code",
   "execution_count": 2,
   "id": "0336d56f",
   "metadata": {},
   "outputs": [],
   "source": [
    "def processa_plantio(filepath, estado_filtro):\n",
    "    \"\"\"\n",
    "    Lê, limpa e transforma os dados de plantio de culturas agrícolas.\n",
    "\n",
    "    Parâmetros:\n",
    "    - filepath: caminho para o arquivo Excel.\n",
    "    - estado_filtro: sigla do estado para filtrar (ex: 'PA').\n",
    "\n",
    "    Retorna:\n",
    "    - DataFrame com colunas: Município, Ano, Área plantada (ha)\n",
    "    \"\"\"\n",
    "    # Lê o arquivo Excel, pulando as primeiras 4 linhas de cabeçalho\n",
    "    df = pd.read_excel(filepath, header=4)\n",
    "    # Renomeia a coluna de municípios para facilitar o tratamento\n",
    "    df = df.rename(columns={'Unnamed: 0': 'Município'})\n",
    "    # Extrai Município e Estado em colunas separadas usando regex\n",
    "    df[['Município', 'Estado']] = df['Município'].str.extract(r\"^(.*?)\\s+\\((\\w+)\\)$\")\n",
    "    # Filtra apenas os municípios do estado desejado\n",
    "    df_estado = df[df['Estado'] == estado_filtro].drop(columns=['Estado'])\n",
    "    # Transforma as colunas de anos em linhas (formato longo)\n",
    "    df_estado = df_estado.melt(id_vars=['Município'], var_name='Ano', value_name='Área plantada (ha)')\n",
    "    # Converte valores não numéricos para 0 e garante tipo inteiro\n",
    "    df_estado['Área plantada (ha)'] = pd.to_numeric(df_estado['Área plantada (ha)'], errors='coerce').fillna(0)\n",
    "    df_estado.sort_values(by=['Município', 'Ano'], inplace=True)\n",
    "    df_estado['Área plantada (ha)'] = df_estado['Área plantada (ha)'].astype(int)\n",
    "    return df_estado"
   ]
  },
  {
   "cell_type": "code",
   "execution_count": 3,
   "id": "10e40192",
   "metadata": {},
   "outputs": [],
   "source": [
    "# Processa dados de soja para o Pará\n",
    "soja_pa = processa_plantio('../data/PLANTACOES/soja_2008_2023.xlsx', 'PA')\n",
    "soja_pa.to_csv('../data/PLANTACOES/soja_pa.csv', index=False)"
   ]
  },
  {
   "cell_type": "code",
   "execution_count": 4,
   "id": "bda3718f",
   "metadata": {},
   "outputs": [
    {
     "data": {
      "application/vnd.microsoft.datawrangler.viewer.v0+json": {
       "columns": [
        {
         "name": "index",
         "rawType": "int64",
         "type": "integer"
        },
        {
         "name": "Município",
         "rawType": "object",
         "type": "string"
        },
        {
         "name": "Ano",
         "rawType": "object",
         "type": "string"
        },
        {
         "name": "Área plantada (ha)",
         "rawType": "int64",
         "type": "integer"
        }
       ],
       "conversionMethod": "pd.DataFrame",
       "ref": "cb63634e-aff9-4992-b33b-e61ab602ef7f",
       "rows": [
        [
         "0",
         "Abaetetuba",
         "2008",
         "0"
        ],
        [
         "143",
         "Abaetetuba",
         "2009",
         "0"
        ],
        [
         "286",
         "Abaetetuba",
         "2010",
         "0"
        ],
        [
         "429",
         "Abaetetuba",
         "2011",
         "0"
        ],
        [
         "572",
         "Abaetetuba",
         "2012",
         "0"
        ],
        [
         "715",
         "Abaetetuba",
         "2013",
         "0"
        ],
        [
         "858",
         "Abaetetuba",
         "2014",
         "0"
        ],
        [
         "1001",
         "Abaetetuba",
         "2015",
         "0"
        ],
        [
         "1144",
         "Abaetetuba",
         "2016",
         "0"
        ],
        [
         "1287",
         "Abaetetuba",
         "2017",
         "0"
        ],
        [
         "1430",
         "Abaetetuba",
         "2018",
         "0"
        ],
        [
         "1573",
         "Abaetetuba",
         "2019",
         "0"
        ],
        [
         "1716",
         "Abaetetuba",
         "2020",
         "0"
        ],
        [
         "1859",
         "Abaetetuba",
         "2021",
         "0"
        ],
        [
         "2002",
         "Abaetetuba",
         "2022",
         "0"
        ],
        [
         "2145",
         "Abaetetuba",
         "2023",
         "0"
        ],
        [
         "1",
         "Abel Figueiredo",
         "2008",
         "0"
        ],
        [
         "144",
         "Abel Figueiredo",
         "2009",
         "0"
        ],
        [
         "287",
         "Abel Figueiredo",
         "2010",
         "0"
        ],
        [
         "430",
         "Abel Figueiredo",
         "2011",
         "0"
        ],
        [
         "573",
         "Abel Figueiredo",
         "2012",
         "0"
        ],
        [
         "716",
         "Abel Figueiredo",
         "2013",
         "0"
        ],
        [
         "859",
         "Abel Figueiredo",
         "2014",
         "0"
        ],
        [
         "1002",
         "Abel Figueiredo",
         "2015",
         "0"
        ],
        [
         "1145",
         "Abel Figueiredo",
         "2016",
         "50"
        ],
        [
         "1288",
         "Abel Figueiredo",
         "2017",
         "55"
        ],
        [
         "1431",
         "Abel Figueiredo",
         "2018",
         "60"
        ],
        [
         "1574",
         "Abel Figueiredo",
         "2019",
         "4000"
        ],
        [
         "1717",
         "Abel Figueiredo",
         "2020",
         "5500"
        ],
        [
         "1860",
         "Abel Figueiredo",
         "2021",
         "5600"
        ],
        [
         "2003",
         "Abel Figueiredo",
         "2022",
         "5600"
        ],
        [
         "2146",
         "Abel Figueiredo",
         "2023",
         "5600"
        ],
        [
         "2",
         "Acará",
         "2008",
         "0"
        ],
        [
         "145",
         "Acará",
         "2009",
         "0"
        ],
        [
         "288",
         "Acará",
         "2010",
         "0"
        ],
        [
         "431",
         "Acará",
         "2011",
         "0"
        ],
        [
         "574",
         "Acará",
         "2012",
         "0"
        ],
        [
         "717",
         "Acará",
         "2013",
         "0"
        ],
        [
         "860",
         "Acará",
         "2014",
         "0"
        ],
        [
         "1003",
         "Acará",
         "2015",
         "0"
        ],
        [
         "1146",
         "Acará",
         "2016",
         "0"
        ],
        [
         "1289",
         "Acará",
         "2017",
         "0"
        ],
        [
         "1432",
         "Acará",
         "2018",
         "0"
        ],
        [
         "1575",
         "Acará",
         "2019",
         "0"
        ],
        [
         "1718",
         "Acará",
         "2020",
         "0"
        ],
        [
         "1861",
         "Acará",
         "2021",
         "0"
        ],
        [
         "2004",
         "Acará",
         "2022",
         "0"
        ],
        [
         "2147",
         "Acará",
         "2023",
         "0"
        ],
        [
         "3",
         "Afuá",
         "2008",
         "0"
        ],
        [
         "146",
         "Afuá",
         "2009",
         "0"
        ]
       ],
       "shape": {
        "columns": 3,
        "rows": 2288
       }
      },
      "text/html": [
       "<div>\n",
       "<style scoped>\n",
       "    .dataframe tbody tr th:only-of-type {\n",
       "        vertical-align: middle;\n",
       "    }\n",
       "\n",
       "    .dataframe tbody tr th {\n",
       "        vertical-align: top;\n",
       "    }\n",
       "\n",
       "    .dataframe thead th {\n",
       "        text-align: right;\n",
       "    }\n",
       "</style>\n",
       "<table border=\"1\" class=\"dataframe\">\n",
       "  <thead>\n",
       "    <tr style=\"text-align: right;\">\n",
       "      <th></th>\n",
       "      <th>Município</th>\n",
       "      <th>Ano</th>\n",
       "      <th>Área plantada (ha)</th>\n",
       "    </tr>\n",
       "  </thead>\n",
       "  <tbody>\n",
       "    <tr>\n",
       "      <th>0</th>\n",
       "      <td>Abaetetuba</td>\n",
       "      <td>2008</td>\n",
       "      <td>0</td>\n",
       "    </tr>\n",
       "    <tr>\n",
       "      <th>143</th>\n",
       "      <td>Abaetetuba</td>\n",
       "      <td>2009</td>\n",
       "      <td>0</td>\n",
       "    </tr>\n",
       "    <tr>\n",
       "      <th>286</th>\n",
       "      <td>Abaetetuba</td>\n",
       "      <td>2010</td>\n",
       "      <td>0</td>\n",
       "    </tr>\n",
       "    <tr>\n",
       "      <th>429</th>\n",
       "      <td>Abaetetuba</td>\n",
       "      <td>2011</td>\n",
       "      <td>0</td>\n",
       "    </tr>\n",
       "    <tr>\n",
       "      <th>572</th>\n",
       "      <td>Abaetetuba</td>\n",
       "      <td>2012</td>\n",
       "      <td>0</td>\n",
       "    </tr>\n",
       "    <tr>\n",
       "      <th>...</th>\n",
       "      <td>...</td>\n",
       "      <td>...</td>\n",
       "      <td>...</td>\n",
       "    </tr>\n",
       "    <tr>\n",
       "      <th>1654</th>\n",
       "      <td>Óbidos</td>\n",
       "      <td>2019</td>\n",
       "      <td>0</td>\n",
       "    </tr>\n",
       "    <tr>\n",
       "      <th>1797</th>\n",
       "      <td>Óbidos</td>\n",
       "      <td>2020</td>\n",
       "      <td>0</td>\n",
       "    </tr>\n",
       "    <tr>\n",
       "      <th>1940</th>\n",
       "      <td>Óbidos</td>\n",
       "      <td>2021</td>\n",
       "      <td>0</td>\n",
       "    </tr>\n",
       "    <tr>\n",
       "      <th>2083</th>\n",
       "      <td>Óbidos</td>\n",
       "      <td>2022</td>\n",
       "      <td>0</td>\n",
       "    </tr>\n",
       "    <tr>\n",
       "      <th>2226</th>\n",
       "      <td>Óbidos</td>\n",
       "      <td>2023</td>\n",
       "      <td>0</td>\n",
       "    </tr>\n",
       "  </tbody>\n",
       "</table>\n",
       "<p>2288 rows × 3 columns</p>\n",
       "</div>"
      ],
      "text/plain": [
       "       Município   Ano  Área plantada (ha)\n",
       "0     Abaetetuba  2008                   0\n",
       "143   Abaetetuba  2009                   0\n",
       "286   Abaetetuba  2010                   0\n",
       "429   Abaetetuba  2011                   0\n",
       "572   Abaetetuba  2012                   0\n",
       "...          ...   ...                 ...\n",
       "1654      Óbidos  2019                   0\n",
       "1797      Óbidos  2020                   0\n",
       "1940      Óbidos  2021                   0\n",
       "2083      Óbidos  2022                   0\n",
       "2226      Óbidos  2023                   0\n",
       "\n",
       "[2288 rows x 3 columns]"
      ]
     },
     "execution_count": 4,
     "metadata": {},
     "output_type": "execute_result"
    }
   ],
   "source": [
    "soja_pa"
   ]
  },
  {
   "cell_type": "code",
   "execution_count": 5,
   "id": "432751de",
   "metadata": {},
   "outputs": [],
   "source": [
    "# Processa dados de milho para o Pará\n",
    "milho_pa = processa_plantio('../data/PLANTACOES/milho_2008_2023.xlsx', 'PA')\n",
    "milho_pa.to_csv('../data/PLANTACOES/milho_pa.csv', index=False)"
   ]
  },
  {
   "cell_type": "code",
   "execution_count": 6,
   "id": "190b758d",
   "metadata": {},
   "outputs": [
    {
     "data": {
      "application/vnd.microsoft.datawrangler.viewer.v0+json": {
       "columns": [
        {
         "name": "index",
         "rawType": "int64",
         "type": "integer"
        },
        {
         "name": "Município",
         "rawType": "object",
         "type": "string"
        },
        {
         "name": "Ano",
         "rawType": "object",
         "type": "string"
        },
        {
         "name": "Área plantada (ha)",
         "rawType": "int64",
         "type": "integer"
        }
       ],
       "conversionMethod": "pd.DataFrame",
       "ref": "d29cf76b-0545-4173-9cb1-5a695c03e064",
       "rows": [
        [
         "0",
         "Abaetetuba",
         "2008",
         "50"
        ],
        [
         "138",
         "Abaetetuba",
         "2009",
         "50"
        ],
        [
         "276",
         "Abaetetuba",
         "2010",
         "80"
        ],
        [
         "414",
         "Abaetetuba",
         "2011",
         "100"
        ],
        [
         "552",
         "Abaetetuba",
         "2012",
         "150"
        ],
        [
         "690",
         "Abaetetuba",
         "2013",
         "150"
        ],
        [
         "828",
         "Abaetetuba",
         "2014",
         "120"
        ],
        [
         "966",
         "Abaetetuba",
         "2015",
         "120"
        ],
        [
         "1104",
         "Abaetetuba",
         "2016",
         "90"
        ],
        [
         "1242",
         "Abaetetuba",
         "2017",
         "50"
        ],
        [
         "1380",
         "Abaetetuba",
         "2018",
         "90"
        ],
        [
         "1518",
         "Abaetetuba",
         "2019",
         "90"
        ],
        [
         "1656",
         "Abaetetuba",
         "2020",
         "90"
        ],
        [
         "1794",
         "Abaetetuba",
         "2021",
         "90"
        ],
        [
         "1932",
         "Abaetetuba",
         "2022",
         "90"
        ],
        [
         "2070",
         "Abaetetuba",
         "2023",
         "90"
        ],
        [
         "1",
         "Abel Figueiredo",
         "2008",
         "890"
        ],
        [
         "139",
         "Abel Figueiredo",
         "2009",
         "770"
        ],
        [
         "277",
         "Abel Figueiredo",
         "2010",
         "920"
        ],
        [
         "415",
         "Abel Figueiredo",
         "2011",
         "1260"
        ],
        [
         "553",
         "Abel Figueiredo",
         "2012",
         "1350"
        ],
        [
         "691",
         "Abel Figueiredo",
         "2013",
         "1360"
        ],
        [
         "829",
         "Abel Figueiredo",
         "2014",
         "360"
        ],
        [
         "967",
         "Abel Figueiredo",
         "2015",
         "400"
        ],
        [
         "1105",
         "Abel Figueiredo",
         "2016",
         "340"
        ],
        [
         "1243",
         "Abel Figueiredo",
         "2017",
         "350"
        ],
        [
         "1381",
         "Abel Figueiredo",
         "2018",
         "385"
        ],
        [
         "1519",
         "Abel Figueiredo",
         "2019",
         "120"
        ],
        [
         "1657",
         "Abel Figueiredo",
         "2020",
         "200"
        ],
        [
         "1795",
         "Abel Figueiredo",
         "2021",
         "210"
        ],
        [
         "1933",
         "Abel Figueiredo",
         "2022",
         "210"
        ],
        [
         "2071",
         "Abel Figueiredo",
         "2023",
         "210"
        ],
        [
         "2",
         "Acará",
         "2008",
         "300"
        ],
        [
         "140",
         "Acará",
         "2009",
         "300"
        ],
        [
         "278",
         "Acará",
         "2010",
         "300"
        ],
        [
         "416",
         "Acará",
         "2011",
         "300"
        ],
        [
         "554",
         "Acará",
         "2012",
         "300"
        ],
        [
         "692",
         "Acará",
         "2013",
         "500"
        ],
        [
         "830",
         "Acará",
         "2014",
         "300"
        ],
        [
         "968",
         "Acará",
         "2015",
         "300"
        ],
        [
         "1106",
         "Acará",
         "2016",
         "30"
        ],
        [
         "1244",
         "Acará",
         "2017",
         "50"
        ],
        [
         "1382",
         "Acará",
         "2018",
         "50"
        ],
        [
         "1520",
         "Acará",
         "2019",
         "50"
        ],
        [
         "1658",
         "Acará",
         "2020",
         "50"
        ],
        [
         "1796",
         "Acará",
         "2021",
         "50"
        ],
        [
         "1934",
         "Acará",
         "2022",
         "50"
        ],
        [
         "2072",
         "Acará",
         "2023",
         "50"
        ],
        [
         "3",
         "Afuá",
         "2008",
         "0"
        ],
        [
         "141",
         "Afuá",
         "2009",
         "0"
        ]
       ],
       "shape": {
        "columns": 3,
        "rows": 2208
       }
      },
      "text/html": [
       "<div>\n",
       "<style scoped>\n",
       "    .dataframe tbody tr th:only-of-type {\n",
       "        vertical-align: middle;\n",
       "    }\n",
       "\n",
       "    .dataframe tbody tr th {\n",
       "        vertical-align: top;\n",
       "    }\n",
       "\n",
       "    .dataframe thead th {\n",
       "        text-align: right;\n",
       "    }\n",
       "</style>\n",
       "<table border=\"1\" class=\"dataframe\">\n",
       "  <thead>\n",
       "    <tr style=\"text-align: right;\">\n",
       "      <th></th>\n",
       "      <th>Município</th>\n",
       "      <th>Ano</th>\n",
       "      <th>Área plantada (ha)</th>\n",
       "    </tr>\n",
       "  </thead>\n",
       "  <tbody>\n",
       "    <tr>\n",
       "      <th>0</th>\n",
       "      <td>Abaetetuba</td>\n",
       "      <td>2008</td>\n",
       "      <td>50</td>\n",
       "    </tr>\n",
       "    <tr>\n",
       "      <th>138</th>\n",
       "      <td>Abaetetuba</td>\n",
       "      <td>2009</td>\n",
       "      <td>50</td>\n",
       "    </tr>\n",
       "    <tr>\n",
       "      <th>276</th>\n",
       "      <td>Abaetetuba</td>\n",
       "      <td>2010</td>\n",
       "      <td>80</td>\n",
       "    </tr>\n",
       "    <tr>\n",
       "      <th>414</th>\n",
       "      <td>Abaetetuba</td>\n",
       "      <td>2011</td>\n",
       "      <td>100</td>\n",
       "    </tr>\n",
       "    <tr>\n",
       "      <th>552</th>\n",
       "      <td>Abaetetuba</td>\n",
       "      <td>2012</td>\n",
       "      <td>150</td>\n",
       "    </tr>\n",
       "    <tr>\n",
       "      <th>...</th>\n",
       "      <td>...</td>\n",
       "      <td>...</td>\n",
       "      <td>...</td>\n",
       "    </tr>\n",
       "    <tr>\n",
       "      <th>1595</th>\n",
       "      <td>Óbidos</td>\n",
       "      <td>2019</td>\n",
       "      <td>700</td>\n",
       "    </tr>\n",
       "    <tr>\n",
       "      <th>1733</th>\n",
       "      <td>Óbidos</td>\n",
       "      <td>2020</td>\n",
       "      <td>100</td>\n",
       "    </tr>\n",
       "    <tr>\n",
       "      <th>1871</th>\n",
       "      <td>Óbidos</td>\n",
       "      <td>2021</td>\n",
       "      <td>100</td>\n",
       "    </tr>\n",
       "    <tr>\n",
       "      <th>2009</th>\n",
       "      <td>Óbidos</td>\n",
       "      <td>2022</td>\n",
       "      <td>100</td>\n",
       "    </tr>\n",
       "    <tr>\n",
       "      <th>2147</th>\n",
       "      <td>Óbidos</td>\n",
       "      <td>2023</td>\n",
       "      <td>50</td>\n",
       "    </tr>\n",
       "  </tbody>\n",
       "</table>\n",
       "<p>2208 rows × 3 columns</p>\n",
       "</div>"
      ],
      "text/plain": [
       "       Município   Ano  Área plantada (ha)\n",
       "0     Abaetetuba  2008                  50\n",
       "138   Abaetetuba  2009                  50\n",
       "276   Abaetetuba  2010                  80\n",
       "414   Abaetetuba  2011                 100\n",
       "552   Abaetetuba  2012                 150\n",
       "...          ...   ...                 ...\n",
       "1595      Óbidos  2019                 700\n",
       "1733      Óbidos  2020                 100\n",
       "1871      Óbidos  2021                 100\n",
       "2009      Óbidos  2022                 100\n",
       "2147      Óbidos  2023                  50\n",
       "\n",
       "[2208 rows x 3 columns]"
      ]
     },
     "execution_count": 6,
     "metadata": {},
     "output_type": "execute_result"
    }
   ],
   "source": [
    "milho_pa"
   ]
  }
 ],
 "metadata": {
  "kernelspec": {
   "display_name": ".venv",
   "language": "python",
   "name": "python3"
  },
  "language_info": {
   "codemirror_mode": {
    "name": "ipython",
    "version": 3
   },
   "file_extension": ".py",
   "mimetype": "text/x-python",
   "name": "python",
   "nbconvert_exporter": "python",
   "pygments_lexer": "ipython3",
   "version": "3.12.9"
  }
 },
 "nbformat": 4,
 "nbformat_minor": 5
}
