{
 "cells": [
  {
   "cell_type": "code",
   "execution_count": 1,
   "id": "f437d398",
   "metadata": {},
   "outputs": [],
   "source": [
    "import pandas as pd"
   ]
  },
  {
   "cell_type": "markdown",
   "id": "1658b45f",
   "metadata": {},
   "source": [
    "### Link para download do dados:\n",
    "https://sidra.ibge.gov.br/tabela/3939"
   ]
  },
  {
   "cell_type": "code",
   "execution_count": 2,
   "id": "e1c0413c",
   "metadata": {},
   "outputs": [],
   "source": [
    "def processa_rebanho(filepath, estado_filtro):\n",
    "    \"\"\"\n",
    "    Lê, limpa e transforma os dados de rebanho de bovinos.\n",
    "\n",
    "    Parâmetros:\n",
    "    - filepath: caminho para o arquivo Excel.\n",
    "    - estado_filtro: sigla do estado para filtrar (ex: 'PA').\n",
    "\n",
    "    Retorna:\n",
    "    - DataFrame com colunas: Município, Ano, Total Rebanho (Bovino)\n",
    "    \"\"\"\n",
    "    # Lê o arquivo Excel, pulando as primeiras 4 linhas de cabeçalho\n",
    "    df = pd.read_excel(filepath, header=4)\n",
    "    # Renomeia a coluna de municípios para facilitar o tratamento\n",
    "    df = df.rename(columns={'Unnamed: 0': 'Município'})\n",
    "    # Extrai Município e Estado em colunas separadas usando regex\n",
    "    df[['Município', 'Estado']] = df['Município'].str.extract(r\"^(.*?)\\s+\\((\\w+)\\)$\")\n",
    "    # Filtra apenas os municípios do estado desejado\n",
    "    df_estado = df[df['Estado'] == estado_filtro].drop(columns=['Estado'])\n",
    "    # Transforma as colunas de anos em linhas (formato longo)\n",
    "    df_estado = df_estado.melt(id_vars=['Município'], var_name='Ano', value_name='Total Rebanho (Bovino)')\n",
    "    # Converte valores não numéricos para 0 e garante tipo inteiro\n",
    "    df_estado['Total Rebanho (Bovino)'] = pd.to_numeric(df_estado['Total Rebanho (Bovino)'], errors='coerce').fillna(0)\n",
    "    df_estado.sort_values(by=['Município', 'Ano'], inplace=True)\n",
    "    df_estado['Total Rebanho (Bovino)'] = df_estado['Total Rebanho (Bovino)'].astype(int)\n",
    "    return df_estado"
   ]
  },
  {
   "cell_type": "code",
   "execution_count": 3,
   "id": "d40e468f",
   "metadata": {},
   "outputs": [],
   "source": [
    "# Processa dados de soja para o Pará\n",
    "bovino_pa = processa_rebanho('../data/REBANHO/bovino_2008_2023.xlsx', 'PA')\n",
    "bovino_pa.to_csv('../data/REBANHO/bovino_pa.csv', index=False)"
   ]
  },
  {
   "cell_type": "code",
   "execution_count": 4,
   "id": "65e81ae0",
   "metadata": {},
   "outputs": [
    {
     "data": {
      "application/vnd.microsoft.datawrangler.viewer.v0+json": {
       "columns": [
        {
         "name": "index",
         "rawType": "int64",
         "type": "integer"
        },
        {
         "name": "Município",
         "rawType": "object",
         "type": "string"
        },
        {
         "name": "Ano",
         "rawType": "object",
         "type": "string"
        },
        {
         "name": "Total Rebanho (Bovino)",
         "rawType": "int64",
         "type": "integer"
        }
       ],
       "conversionMethod": "pd.DataFrame",
       "ref": "81e4a396-dced-4ea8-9d90-a43537a89159",
       "rows": [
        [
         "0",
         "Abaetetuba",
         "2008",
         "4194"
        ],
        [
         "144",
         "Abaetetuba",
         "2009",
         "3438"
        ],
        [
         "288",
         "Abaetetuba",
         "2010",
         "2263"
        ],
        [
         "432",
         "Abaetetuba",
         "2011",
         "1527"
        ],
        [
         "576",
         "Abaetetuba",
         "2012",
         "1859"
        ],
        [
         "720",
         "Abaetetuba",
         "2013",
         "1858"
        ],
        [
         "864",
         "Abaetetuba",
         "2014",
         "1700"
        ],
        [
         "1008",
         "Abaetetuba",
         "2015",
         "19086"
        ],
        [
         "1152",
         "Abaetetuba",
         "2016",
         "2408"
        ],
        [
         "1296",
         "Abaetetuba",
         "2017",
         "2800"
        ],
        [
         "1440",
         "Abaetetuba",
         "2018",
         "3100"
        ],
        [
         "1584",
         "Abaetetuba",
         "2019",
         "2800"
        ],
        [
         "1728",
         "Abaetetuba",
         "2020",
         "3100"
        ],
        [
         "1872",
         "Abaetetuba",
         "2021",
         "3500"
        ],
        [
         "2016",
         "Abaetetuba",
         "2022",
         "3800"
        ],
        [
         "2160",
         "Abaetetuba",
         "2023",
         "4500"
        ],
        [
         "1",
         "Abel Figueiredo",
         "2008",
         "58328"
        ],
        [
         "145",
         "Abel Figueiredo",
         "2009",
         "52498"
        ],
        [
         "289",
         "Abel Figueiredo",
         "2010",
         "48198"
        ],
        [
         "433",
         "Abel Figueiredo",
         "2011",
         "44422"
        ],
        [
         "577",
         "Abel Figueiredo",
         "2012",
         "46000"
        ],
        [
         "721",
         "Abel Figueiredo",
         "2013",
         "54531"
        ],
        [
         "865",
         "Abel Figueiredo",
         "2014",
         "57517"
        ],
        [
         "1009",
         "Abel Figueiredo",
         "2015",
         "54195"
        ],
        [
         "1153",
         "Abel Figueiredo",
         "2016",
         "45934"
        ],
        [
         "1297",
         "Abel Figueiredo",
         "2017",
         "46364"
        ],
        [
         "1441",
         "Abel Figueiredo",
         "2018",
         "45025"
        ],
        [
         "1585",
         "Abel Figueiredo",
         "2019",
         "50371"
        ],
        [
         "1729",
         "Abel Figueiredo",
         "2020",
         "49300"
        ],
        [
         "1873",
         "Abel Figueiredo",
         "2021",
         "45670"
        ],
        [
         "2017",
         "Abel Figueiredo",
         "2022",
         "46200"
        ],
        [
         "2161",
         "Abel Figueiredo",
         "2023",
         "50800"
        ],
        [
         "2",
         "Acará",
         "2008",
         "25000"
        ],
        [
         "146",
         "Acará",
         "2009",
         "26000"
        ],
        [
         "290",
         "Acará",
         "2010",
         "21480"
        ],
        [
         "434",
         "Acará",
         "2011",
         "11689"
        ],
        [
         "578",
         "Acará",
         "2012",
         "6372"
        ],
        [
         "722",
         "Acará",
         "2013",
         "10085"
        ],
        [
         "866",
         "Acará",
         "2014",
         "10948"
        ],
        [
         "1010",
         "Acará",
         "2015",
         "11982"
        ],
        [
         "1154",
         "Acará",
         "2016",
         "10546"
        ],
        [
         "1298",
         "Acará",
         "2017",
         "10740"
        ],
        [
         "1442",
         "Acará",
         "2018",
         "19741"
        ],
        [
         "1586",
         "Acará",
         "2019",
         "19700"
        ],
        [
         "1730",
         "Acará",
         "2020",
         "12179"
        ],
        [
         "1874",
         "Acará",
         "2021",
         "15184"
        ],
        [
         "2018",
         "Acará",
         "2022",
         "15674"
        ],
        [
         "2162",
         "Acará",
         "2023",
         "18099"
        ],
        [
         "3",
         "Afuá",
         "2008",
         "3800"
        ],
        [
         "147",
         "Afuá",
         "2009",
         "4200"
        ]
       ],
       "shape": {
        "columns": 3,
        "rows": 2304
       }
      },
      "text/html": [
       "<div>\n",
       "<style scoped>\n",
       "    .dataframe tbody tr th:only-of-type {\n",
       "        vertical-align: middle;\n",
       "    }\n",
       "\n",
       "    .dataframe tbody tr th {\n",
       "        vertical-align: top;\n",
       "    }\n",
       "\n",
       "    .dataframe thead th {\n",
       "        text-align: right;\n",
       "    }\n",
       "</style>\n",
       "<table border=\"1\" class=\"dataframe\">\n",
       "  <thead>\n",
       "    <tr style=\"text-align: right;\">\n",
       "      <th></th>\n",
       "      <th>Município</th>\n",
       "      <th>Ano</th>\n",
       "      <th>Total Rebanho (Bovino)</th>\n",
       "    </tr>\n",
       "  </thead>\n",
       "  <tbody>\n",
       "    <tr>\n",
       "      <th>0</th>\n",
       "      <td>Abaetetuba</td>\n",
       "      <td>2008</td>\n",
       "      <td>4194</td>\n",
       "    </tr>\n",
       "    <tr>\n",
       "      <th>144</th>\n",
       "      <td>Abaetetuba</td>\n",
       "      <td>2009</td>\n",
       "      <td>3438</td>\n",
       "    </tr>\n",
       "    <tr>\n",
       "      <th>288</th>\n",
       "      <td>Abaetetuba</td>\n",
       "      <td>2010</td>\n",
       "      <td>2263</td>\n",
       "    </tr>\n",
       "    <tr>\n",
       "      <th>432</th>\n",
       "      <td>Abaetetuba</td>\n",
       "      <td>2011</td>\n",
       "      <td>1527</td>\n",
       "    </tr>\n",
       "    <tr>\n",
       "      <th>576</th>\n",
       "      <td>Abaetetuba</td>\n",
       "      <td>2012</td>\n",
       "      <td>1859</td>\n",
       "    </tr>\n",
       "    <tr>\n",
       "      <th>...</th>\n",
       "      <td>...</td>\n",
       "      <td>...</td>\n",
       "      <td>...</td>\n",
       "    </tr>\n",
       "    <tr>\n",
       "      <th>1665</th>\n",
       "      <td>Óbidos</td>\n",
       "      <td>2019</td>\n",
       "      <td>143068</td>\n",
       "    </tr>\n",
       "    <tr>\n",
       "      <th>1809</th>\n",
       "      <td>Óbidos</td>\n",
       "      <td>2020</td>\n",
       "      <td>149900</td>\n",
       "    </tr>\n",
       "    <tr>\n",
       "      <th>1953</th>\n",
       "      <td>Óbidos</td>\n",
       "      <td>2021</td>\n",
       "      <td>160052</td>\n",
       "    </tr>\n",
       "    <tr>\n",
       "      <th>2097</th>\n",
       "      <td>Óbidos</td>\n",
       "      <td>2022</td>\n",
       "      <td>172430</td>\n",
       "    </tr>\n",
       "    <tr>\n",
       "      <th>2241</th>\n",
       "      <td>Óbidos</td>\n",
       "      <td>2023</td>\n",
       "      <td>180010</td>\n",
       "    </tr>\n",
       "  </tbody>\n",
       "</table>\n",
       "<p>2304 rows × 3 columns</p>\n",
       "</div>"
      ],
      "text/plain": [
       "       Município   Ano  Total Rebanho (Bovino)\n",
       "0     Abaetetuba  2008                    4194\n",
       "144   Abaetetuba  2009                    3438\n",
       "288   Abaetetuba  2010                    2263\n",
       "432   Abaetetuba  2011                    1527\n",
       "576   Abaetetuba  2012                    1859\n",
       "...          ...   ...                     ...\n",
       "1665      Óbidos  2019                  143068\n",
       "1809      Óbidos  2020                  149900\n",
       "1953      Óbidos  2021                  160052\n",
       "2097      Óbidos  2022                  172430\n",
       "2241      Óbidos  2023                  180010\n",
       "\n",
       "[2304 rows x 3 columns]"
      ]
     },
     "execution_count": 4,
     "metadata": {},
     "output_type": "execute_result"
    }
   ],
   "source": [
    "bovino_pa"
   ]
  }
 ],
 "metadata": {
  "kernelspec": {
   "display_name": ".venv",
   "language": "python",
   "name": "python3"
  },
  "language_info": {
   "codemirror_mode": {
    "name": "ipython",
    "version": 3
   },
   "file_extension": ".py",
   "mimetype": "text/x-python",
   "name": "python",
   "nbconvert_exporter": "python",
   "pygments_lexer": "ipython3",
   "version": "3.12.9"
  }
 },
 "nbformat": 4,
 "nbformat_minor": 5
}
